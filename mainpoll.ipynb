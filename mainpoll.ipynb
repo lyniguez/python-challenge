{
 "cells": [
  {
   "cell_type": "code",
   "execution_count": 96,
   "metadata": {
    "collapsed": true
   },
   "outputs": [],
   "source": [
    "import pandas as pd\n",
    "import numpy as np\n"
   ]
  },
  {
   "cell_type": "code",
   "execution_count": 97,
   "metadata": {},
   "outputs": [],
   "source": [
    "polldata = pd.read_csv(\"PyPoll/raw_data/election_data_2.csv\")\n"
   ]
  },
  {
   "cell_type": "code",
   "execution_count": 148,
   "metadata": {},
   "outputs": [
    {
     "name": "stdout",
     "output_type": "stream",
     "text": [
      "Khan\n"
     ]
    }
   ],
   "source": [
    "polldataDF = polldata[[\"Candidate\", \"Voter ID\"]]\n",
    "polldataDF = polldataDF.rename(columns={\"Voter ID\":\"Votes\"})\n",
    "\n",
    "pollvotecount = polldataDF[\"Candidate\"].value_counts()\n",
    "totalvotes = polldata[\"County\"].count()\n",
    "percentcount = round((pollvotecount / totalvotes) * 100,1)\n",
    "\n",
    "\n",
    "\n",
    "pollgroup = polldataDF.groupby([\"Candidate\"]).count()\n",
    "\n",
    "\n",
    "\n",
    "pollsummary = pd.DataFrame({\"% of Vote\":percentcount,\"Votes\":pollvotes})\n",
    "\n",
    "winner = pollsummary.sort_values(\"Votes\", ascending = False)\n",
    "\n",
    "winner.reset_index(inplace = True)\n",
    "\n",
    "winningcandidate = winner.loc[0,:]\n",
    "\n",
    "print(winningcandidate[0])\n",
    "\n",
    "\n",
    "\n"
   ]
  },
  {
   "cell_type": "code",
   "execution_count": 150,
   "metadata": {},
   "outputs": [
    {
     "name": "stdout",
     "output_type": "stream",
     "text": [
      "Election Results\n",
      "-------------------------\n",
      "Total Votes: 1048575\n",
      "-------------------------\n",
      "          % of Vote   Votes\n",
      "Correy         19.9  209046\n",
      "Khan           63.1  661583\n",
      "Li             14.0  146360\n",
      "O'Tooley        3.0   31586\n",
      "-------------------------\n",
      "Winner: Khan\n"
     ]
    }
   ],
   "source": [
    "print(\"Election Results\")\n",
    "print(\"-------------------------\")\n",
    "print(\"Total Votes: \" + str(totalvotes))\n",
    "print(\"-------------------------\")\n",
    "print(pollsummary)\n",
    "print(\"-------------------------\")\n",
    "print(\"Winner: \" + str(winningcandidate[0]))\n"
   ]
  },
  {
   "cell_type": "code",
   "execution_count": null,
   "metadata": {
    "collapsed": true
   },
   "outputs": [],
   "source": []
  },
  {
   "cell_type": "code",
   "execution_count": null,
   "metadata": {
    "collapsed": true
   },
   "outputs": [],
   "source": []
  },
  {
   "cell_type": "code",
   "execution_count": null,
   "metadata": {
    "collapsed": true
   },
   "outputs": [],
   "source": []
  },
  {
   "cell_type": "code",
   "execution_count": null,
   "metadata": {
    "collapsed": true
   },
   "outputs": [],
   "source": []
  }
 ],
 "metadata": {
  "kernelspec": {
   "display_name": "Python 3",
   "language": "python",
   "name": "python3"
  },
  "language_info": {
   "codemirror_mode": {
    "name": "ipython",
    "version": 3
   },
   "file_extension": ".py",
   "mimetype": "text/x-python",
   "name": "python",
   "nbconvert_exporter": "python",
   "pygments_lexer": "ipython3",
   "version": "3.6.1"
  }
 },
 "nbformat": 4,
 "nbformat_minor": 2
}
