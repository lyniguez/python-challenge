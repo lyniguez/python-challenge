{
 "cells": [
  {
   "cell_type": "code",
   "execution_count": 19,
   "metadata": {
    "collapsed": true
   },
   "outputs": [],
   "source": [
    "import os\n",
    "import csv"
   ]
  },
  {
   "cell_type": "code",
   "execution_count": 20,
   "metadata": {
    "collapsed": true
   },
   "outputs": [],
   "source": [
    "budgetCSV = os.path.join('PyBank','raw_data','budget_data_1.csv')"
   ]
  },
  {
   "cell_type": "code",
   "execution_count": 22,
   "metadata": {},
   "outputs": [],
   "source": [
    "totalmonths = 0\n",
    "totalrev= 0\n",
    "maxincreaserev = []\n",
    "maxincreasedate = []\n",
    "maxdecreaserev = []\n",
    "maxdecreasedate = []\n",
    "prevrev = 0\n",
    "totalchange = 0\n",
    "\n",
    "\n",
    "    \n",
    "with open(budgetCSV, \"r\") as budget:\n",
    "    csvreader = csv.DictReader(budget)\n",
    "    count = 1\n",
    "    for row in csvreader:\n",
    "        totalmonths += 1\n",
    "        totalrev = totalrev + int(row[\"Revenue\"])\n",
    "        changerev = int(row[\"Revenue\"])- prevrev\n",
    "        totalchange = totalchange + changerev\n",
    "        maxincreaserev = int(row[\"Revenue\"])\n",
    "        maxdecreaserev = int(row[\"Revenue\"])\n",
    "        \n",
    "        if prevrev != 0:\n",
    "            if changerev > maxincreaserev:\n",
    "                maxincreasedate = row[\"Date\"]\n",
    "                maxincreaserev = int(row[\"Revenue\"])\n",
    "            elif changerev < maxdecreaserev:\n",
    "                maxdecreasedate = row[\"Date\"]\n",
    "                maxdecreaserev = int(row[\"Revenue\"])\n",
    "        else:\n",
    "            prevrev = int(row[\"Revenue\"])\n",
    "        \n",
    "        prevrev = int(row[\"Revenue\"])\n",
    "        count +=1\n",
    "        averagechange = totalchange / count\n",
    "    "
   ]
  },
  {
   "cell_type": "code",
   "execution_count": 23,
   "metadata": {},
   "outputs": [
    {
     "name": "stdout",
     "output_type": "stream",
     "text": [
      "Financial Analysis\n",
      "------------------------\n",
      "Total Months: 41\n",
      "Total Revenue: 18971412\n",
      "Greatest Increase in Revenue: Feb-16 883934\n",
      "Greatest Decrease in Revenue: Jan-16 883934\n",
      "Average Revenue Change 1837235\n"
     ]
    }
   ],
   "source": [
    "\n",
    "\n",
    "print(\"Financial Analysis\")\n",
    "print(\"------------------------\")\n",
    "print(\"Total Months: \"+ str(totalmonths))\n",
    "print(\"Total Revenue: \"+ str(totalrev))\n",
    "\n",
    "print(\"Greatest Increase in Revenue: \"+ str(maxincreasedate)+ \" \"+str(maxincreaserev))\n",
    "print(\"Greatest Decrease in Revenue: \"+ str(maxdecreasedate)+ \" \"+str(maxdecreaserev))\n",
    "print(\"Average Revenue Change \"+ str(changerev))"
   ]
  },
  {
   "cell_type": "code",
   "execution_count": null,
   "metadata": {
    "collapsed": true
   },
   "outputs": [],
   "source": []
  }
 ],
 "metadata": {
  "kernelspec": {
   "display_name": "Python 3",
   "language": "python",
   "name": "python3"
  },
  "language_info": {
   "codemirror_mode": {
    "name": "ipython",
    "version": 3
   },
   "file_extension": ".py",
   "mimetype": "text/x-python",
   "name": "python",
   "nbconvert_exporter": "python",
   "pygments_lexer": "ipython3",
   "version": "3.6.1"
  }
 },
 "nbformat": 4,
 "nbformat_minor": 2
}
