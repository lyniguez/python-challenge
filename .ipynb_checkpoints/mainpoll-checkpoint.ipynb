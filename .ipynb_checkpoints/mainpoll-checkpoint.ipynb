{
 "cells": [
  {
   "cell_type": "code",
   "execution_count": 1,
   "metadata": {
    "collapsed": true
   },
   "outputs": [],
   "source": [
    "import pandas as pd\n",
    "import numpy as np\n"
   ]
  },
  {
   "cell_type": "code",
   "execution_count": 2,
   "metadata": {
    "collapsed": true
   },
   "outputs": [],
   "source": [
    "polldata = pd.read_csv(\"PyPoll/raw_data/election_data_2.csv\")\n"
   ]
  },
  {
   "cell_type": "code",
   "execution_count": 4,
   "metadata": {},
   "outputs": [
    {
     "name": "stdout",
     "output_type": "stream",
     "text": [
      "Khan\n"
     ]
    }
   ],
   "source": [
    "polldataDF = polldata[[\"Candidate\", \"Voter ID\"]]\n",
    "polldataDF = polldataDF.rename(columns={\"Voter ID\":\"Votes\"})\n",
    "\n",
    "pollvotecount = polldataDF[\"Candidate\"].value_counts()\n",
    "totalvotes = polldata[\"County\"].count()\n",
    "percentcount = round((pollvotecount / totalvotes) * 100,1)\n",
    "\n",
    "\n",
    "\n",
    "pollgroup = polldataDF.groupby([\"Candidate\"]).count()\n",
    "\n",
    "\n",
    "\n",
    "pollsummary = pd.DataFrame({\"% of Vote\":percentcount,\"Votes\":totalvotes})\n",
    "\n",
    "winner = pollsummary.sort_values(\"Votes\", ascending = False)\n",
    "\n",
    "winner.reset_index(inplace = True)\n",
    "\n",
    "winningcandidate = winner.loc[0,:]\n",
    "\n",
    "print(winningcandidate[0])\n",
    "\n",
    "\n",
    "\n"
   ]
  },
  {
   "cell_type": "code",
   "execution_count": 5,
   "metadata": {},
   "outputs": [
    {
     "name": "stdout",
     "output_type": "stream",
     "text": [
      "Election Results\n",
      "-------------------------\n",
      "Total Votes: 1048575\n",
      "-------------------------\n",
      "          % of Vote    Votes\n",
      "Khan           63.1  1048575\n",
      "Correy         19.9  1048575\n",
      "Li             14.0  1048575\n",
      "O'Tooley        3.0  1048575\n",
      "-------------------------\n",
      "Winner: Khan\n"
     ]
    }
   ],
   "source": [
    "print(\"Election Results\")\n",
    "print(\"-------------------------\")\n",
    "print(\"Total Votes: \" + str(totalvotes))\n",
    "print(\"-------------------------\")\n",
    "print(pollsummary)\n",
    "print(\"-------------------------\")\n",
    "print(\"Winner: \" + str(winningcandidate[0]))\n"
   ]
  },
  {
   "cell_type": "code",
   "execution_count": null,
   "metadata": {
    "collapsed": true
   },
   "outputs": [],
   "source": []
  },
  {
   "cell_type": "code",
   "execution_count": null,
   "metadata": {
    "collapsed": true
   },
   "outputs": [],
   "source": []
  },
  {
   "cell_type": "code",
   "execution_count": null,
   "metadata": {
    "collapsed": true
   },
   "outputs": [],
   "source": []
  },
  {
   "cell_type": "code",
   "execution_count": null,
   "metadata": {
    "collapsed": true
   },
   "outputs": [],
   "source": []
  },
  {
   "cell_type": "code",
   "execution_count": null,
   "metadata": {
    "collapsed": true
   },
   "outputs": [],
   "source": []
  },
  {
   "cell_type": "code",
   "execution_count": null,
   "metadata": {
    "collapsed": true
   },
   "outputs": [],
   "source": []
  },
  {
   "cell_type": "code",
   "execution_count": null,
   "metadata": {
    "collapsed": true
   },
   "outputs": [],
   "source": []
  }
 ],
 "metadata": {
  "kernelspec": {
   "display_name": "Python 3",
   "language": "python",
   "name": "python3"
  }
 },
 "nbformat": 4,
 "nbformat_minor": 2
}
